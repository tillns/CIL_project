{
  "nbformat": 4,
  "nbformat_minor": 0,
  "metadata": {
    "colab": {
      "name": "STAR_autoencoder_v25.ipynb",
      "version": "0.3.2",
      "provenance": [],
      "collapsed_sections": []
    },
    "kernelspec": {
      "name": "python3",
      "display_name": "Python 3"
    },
    "accelerator": "GPU"
  },
  "cells": [
    {
      "cell_type": "code",
      "metadata": {
        "id": "axdJ_iVYNwaS",
        "colab_type": "code",
        "colab": {}
      },
      "source": [
        "\n",
        "from __future__ import absolute_import, division, print_function, unicode_literals\n",
        "\n",
        "!pip install -q tensorflow-gpu==2.0.0-alpha0\n",
        "import tensorflow as tf\n",
        "\n",
        "import os\n",
        "import numpy as np\n",
        "import matplotlib.pyplot as plt\n",
        "\n",
        "from PIL import Image\n",
        "from PIL import ImageOps\n"
      ],
      "execution_count": 0,
      "outputs": []
    },
    {
      "cell_type": "code",
      "metadata": {
        "id": "4J9MAlDSHauX",
        "colab_type": "code",
        "colab": {}
      },
      "source": [
        "path_csv = \"/content/drive/My Drive/labeled.csv\"\n",
        "path_labeled_images = \"/content/drive/My Drive/labeled\""
      ],
      "execution_count": 0,
      "outputs": []
    },
    {
      "cell_type": "code",
      "metadata": {
        "id": "mmdYI8fqN2B-",
        "colab_type": "code",
        "outputId": "cbc9d97b-a0d1-4b82-8d9f-ded191908d17",
        "colab": {
          "base_uri": "https://localhost:8080/",
          "height": 54
        }
      },
      "source": [
        "from google.colab import drive\n",
        "drive.mount('/content/drive')\n"
      ],
      "execution_count": 3,
      "outputs": [
        {
          "output_type": "stream",
          "text": [
            "Drive already mounted at /content/drive; to attempt to forcibly remount, call drive.mount(\"/content/drive\", force_remount=True).\n"
          ],
          "name": "stdout"
        }
      ]
    },
    {
      "cell_type": "code",
      "metadata": {
        "id": "bvn4aGf9caM9",
        "colab_type": "code",
        "colab": {}
      },
      "source": [
        "def extract_stars_28x28(image):\n",
        "\n",
        "  \"\"\" Extracts stars from an image\n",
        "    \n",
        "  Detects all stars within the given image, extracts them and centers them within patches of size 28x28 with \n",
        "  a black background.\n",
        "    \n",
        "    \n",
        "  Parameters\n",
        "  ----------\n",
        "  image : numpy.ndarray\n",
        "    The image from which the stars are extracted. The image is assumed to be grayscale.\n",
        "    \n",
        "    \n",
        "  Returns\n",
        "  -------\n",
        "  patches : list\n",
        "    A list containing the resulting 28x28 patches.\n",
        "        \n",
        "  \"\"\"\n",
        "  \n",
        "  _, image_binary = cv2.threshold(image, 1, 255, cv2.THRESH_BINARY)\n",
        "  \n",
        "  _, contours, _ = cv2.findContours(image_binary, cv2.RETR_TREE, cv2.CHAIN_APPROX_SIMPLE)\n",
        "    \n",
        "    \n",
        "  # tuples (x, y, w, h)\n",
        "  bounding_rects = [cv2.boundingRect(c) for c in contours] \n",
        "  \n",
        "  bounding_rects_filtered = [r for r in bounding_rects \n",
        "                             if not(r[0] <= 0 or r[0] + r[2] >= 1000 or r[1] <= 0 or r[1] + r[3] >= 1000)]\n",
        "  \n",
        "  patches = []\n",
        "  \n",
        "  for r in bounding_rects_filtered:\n",
        "    \n",
        "    x = r[0]; y = r[1]; w = r[2]; h = r[3]\n",
        "    \n",
        "    if(w > 28 or h > 28):\n",
        "      continue\n",
        "    \n",
        "    star = image[y : y + h, x : x + w]\n",
        "    \n",
        "    if np.amax(star) < 30:\n",
        "      continue\n",
        "    \n",
        "    patch = np.zeros((28, 28), dtype=np.float32)\n",
        "    \n",
        "    padding_y = (28 - h) // 2\n",
        "    padding_x = (28 - w) // 2\n",
        "    \n",
        "    patch[padding_y : padding_y + h, padding_x : padding_x + w] = star\n",
        "    \n",
        "    patches.append(patch)\n",
        "  \n",
        "    \n",
        "  return patches\n",
        "  \n",
        "  "
      ],
      "execution_count": 0,
      "outputs": []
    },
    {
      "cell_type": "code",
      "metadata": {
        "id": "DcKWiTSXN351",
        "colab_type": "code",
        "colab": {}
      },
      "source": [
        "\n",
        "import cv2\n",
        "\n",
        "\n",
        "def load_labeled_images(path_csv, path_labeled_images):\n",
        "    \n",
        "    try:\n",
        "        csv_file = open(path_csv, \"r\")\n",
        "\n",
        "        list_id_label = [] # contains string tuples (id, label)\n",
        "\n",
        "        for line in csv_file:\n",
        "            if not \"Id,Actual\" in line:\n",
        "                line = line.rstrip() # remove trailing newline character            \n",
        "                list_id_label.append(line.split(\",\"))\n",
        "\n",
        "        list_id_label = sorted(list_id_label)\n",
        "\n",
        "        labels = np.zeros(len(list_id_label)) # contains labels\n",
        "\n",
        "        for idx, elem in enumerate(list_id_label):\n",
        "            labels[idx] = float(elem[1])\n",
        "\n",
        "        list_filenames = [] # contains filenames of images\n",
        "\n",
        "        for filename in os.listdir(path_labeled_images):\n",
        "            if filename.endswith(\".png\") and not filename.startswith(\".\"):\n",
        "                list_filenames.append(filename)\n",
        "\n",
        "        list_filenames = sorted(list_filenames)\n",
        "\n",
        "        assert len(labels) == len(list_filenames)\n",
        "\n",
        "        # i suppose an image needs approximately\n",
        "        # sizeof(np.float32) * 1 * 1000 * 1000 B of RAM\n",
        "\n",
        "        # a list works well in terms of performance\n",
        "        images = [] # images\n",
        "        mirror_images = [] # mirror images\n",
        "        \n",
        "                \n",
        "        for idx, filename in enumerate(list_filenames):\n",
        "            \n",
        "            if labels[idx] == 1.0: # include only images with label == 1.0\n",
        "      \n",
        "      \n",
        "                img = cv2.imread(os.path.join(path_labeled_images, filename), cv2.IMREAD_GRAYSCALE)\n",
        "    \n",
        "                patches = extract_stars_28x28(img)\n",
        "      \n",
        "      \n",
        "                for p in patches:\n",
        "          \n",
        "                  p = p.reshape((28, 28, 1))\n",
        "                  p = np.divide(p, 255.0)\n",
        "                  \n",
        "                  images.append(p)\n",
        "                  \n",
        "        \n",
        "        # conversion allows for batches to be extracted\n",
        "        return np.stack(images)\n",
        "\n",
        "    except Error:\n",
        "        print(\"error: failed to load dataset.\")\n",
        "\n",
        "        "
      ],
      "execution_count": 0,
      "outputs": []
    },
    {
      "cell_type": "code",
      "metadata": {
        "id": "m4Bphz-bN8Fn",
        "colab_type": "code",
        "colab": {
          "base_uri": "https://localhost:8080/",
          "height": 34
        },
        "outputId": "ec9f85d7-29a0-4c52-db46-f9b547ffb68c"
      },
      "source": [
        "\n",
        "all_images = load_labeled_images(path_csv, path_labeled_images, augment=False) # note: consider augment=True\n",
        "\n",
        "print(all_images.shape)\n"
      ],
      "execution_count": 6,
      "outputs": [
        {
          "output_type": "stream",
          "text": [
            "(6259, 28, 28, 1)\n"
          ],
          "name": "stdout"
        }
      ]
    },
    {
      "cell_type": "code",
      "metadata": {
        "id": "C6dZpBoIN-UP",
        "colab_type": "code",
        "outputId": "ec67f822-8aa1-42da-8ee6-6f1a057403ed",
        "colab": {
          "base_uri": "https://localhost:8080/",
          "height": 67
        }
      },
      "source": [
        "\n",
        "num_images = len(all_images)\n",
        "print(num_images)\n",
        "\n",
        "frac_train = 0.9\n",
        "\n",
        "num_images_train = int(num_images * frac_train)\n",
        "num_images_test = num_images - num_images_train\n",
        "print(num_images_train)\n",
        "print(num_images_test)\n",
        "\n",
        "batch_size = 100 # HYPERPARAMETER !!!\n",
        "\n",
        "train_dataset = tf.data.Dataset.from_tensor_slices(all_images[:num_images_train, :, :, :]).shuffle(num_images_train).batch(batch_size)\n",
        "test_dataset = tf.data.Dataset.from_tensor_slices(all_images[num_images_train:, :, :, :]).shuffle(num_images_test).batch(batch_size)\n"
      ],
      "execution_count": 354,
      "outputs": [
        {
          "output_type": "stream",
          "text": [
            "6259\n",
            "5633\n",
            "626\n"
          ],
          "name": "stdout"
        }
      ]
    },
    {
      "cell_type": "code",
      "metadata": {
        "id": "uslQWLlVIPxO",
        "colab_type": "code",
        "colab": {}
      },
      "source": [
        "\n",
        "def get_num_parameters(model):\n",
        "  \n",
        "  total = 0\n",
        "  for var in model.trainable_weights:\n",
        "    total += tf.size(var)\n",
        "  \n",
        "  return total\n"
      ],
      "execution_count": 0,
      "outputs": []
    },
    {
      "cell_type": "code",
      "metadata": {
        "id": "kyfqtY1iwbWp",
        "colab_type": "code",
        "colab": {}
      },
      "source": [
        "\n",
        "class VAE(tf.keras.Model):\n",
        "  \n",
        "  def __init__(self, latent_dim):\n",
        "    super(VAE, self).__init__()\n",
        "    \n",
        "    self.latent_dim = latent_dim\n",
        "    \n",
        "    self.inference_net = tf.keras.Sequential(\n",
        "        [\n",
        "            tf.keras.layers.InputLayer(input_shape=(28, 28, 1)),\n",
        "            tf.keras.layers.Flatten(),\n",
        "            tf.keras.layers.Dense(500, activation=None),\n",
        "            tf.keras.layers.ReLU(),\n",
        "            tf.keras.layers.Dropout(0.2),\n",
        "            tf.keras.layers.BatchNormalization(momentum=0.99),\n",
        "            tf.keras.layers.Dense(latent_dim + latent_dim) \n",
        "        ]\n",
        "    )\n",
        "        \n",
        "    self.generative_net = tf.keras.Sequential(\n",
        "        [\n",
        "            tf.keras.layers.InputLayer(input_shape=(latent_dim,)),\n",
        "            tf.keras.layers.Dense(500, activation=None),\n",
        "            tf.keras.layers.ReLU(),\n",
        "            tf.keras.layers.BatchNormalization(momentum=0.99),\n",
        "            tf.keras.layers.Dense(28 * 28 * 1, activation=None),\n",
        "            tf.keras.layers.Reshape(target_shape=(28, 28, 1))\n",
        "        ]\n",
        "    )\n",
        "    \n",
        "    \n",
        "  def encode(self, x):\n",
        "    \n",
        "    mean, logvar = tf.split(self.inference_net(x), num_or_size_splits=2, axis=1)\n",
        "    \n",
        "    return mean, logvar\n",
        "\n",
        "  \n",
        "  def decode(self, z, apply_sigmoid=False):\n",
        "\n",
        "    logits = self.generative_net(z)\n",
        "    \n",
        "    if apply_sigmoid:\n",
        "      probs = tf.sigmoid(logits)\n",
        "      return probs\n",
        "\n",
        "    return logits\n",
        "  \n",
        "  \n",
        "  def reparameterize(self, mean, logvar):\n",
        "    \n",
        "    eps = tf.random.normal(shape=mean.shape)\n",
        "    \n",
        "    return eps * tf.exp(logvar * .5) + mean\n",
        "  \n",
        "  \n",
        "  def sample(self, eps=None):\n",
        "    if eps is None:\n",
        "      eps = tf.random.normal(shape=(100, self.latent_dim))\n",
        "      \n",
        "    return self.decode(eps)\n",
        "  \n",
        "  "
      ],
      "execution_count": 0,
      "outputs": []
    },
    {
      "cell_type": "code",
      "metadata": {
        "id": "kmJAnyMNzAv3",
        "colab_type": "code",
        "colab": {}
      },
      "source": [
        "\n",
        "KL_div_mean = tf.keras.metrics.Mean('KL_div_mean', dtype=tf.float32)\n",
        "\n",
        "logpx_z_mean = tf.keras.metrics.Mean('logpx_z_mean', dtype=tf.float32)\n",
        "\n",
        "\n",
        "def KL_divergence(mean, logvar, raxis=1):\n",
        "  \n",
        "  return tf.reduce_sum(-0.5 * (1 + logvar - mean ** 2 - tf.exp(logvar)), axis=raxis)\n",
        "\n",
        "\n",
        "def compute_loss(model, x, annealing):\n",
        "  \n",
        "  mean, logvar = model.encode(x)\n",
        "  \n",
        "  z = model.reparameterize(mean, logvar)\n",
        "  \n",
        "  x_logit = model.decode(z)\n",
        "  \n",
        "  cross_ent = tf.nn.sigmoid_cross_entropy_with_logits(logits=x_logit, labels=x)\n",
        "  logpx_z = -tf.reduce_sum(cross_ent, axis=[1, 2, 3])\n",
        "  \n",
        "  KL_div = KL_divergence(mean, logvar)\n",
        "  \n",
        "  # NOTE: TensorBoard summaries\n",
        "  logpx_z_mean(logpx_z)\n",
        "  KL_div_mean(KL_div)\n",
        "  \n",
        "  # NOTE: negation causes ascent -> descent\n",
        "  # NOTE: reduce mean is expectation over batch of data\n",
        "  return -tf.reduce_mean(logpx_z - annealing * KL_div)\n",
        "\n",
        "\n",
        "# note: TensorFlow 2.0 optimization procedure\n",
        "def compute_gradients(model, x, annealing):\n",
        "  \n",
        "  with tf.GradientTape() as tape:\n",
        "    \n",
        "    loss = compute_loss(model, x, annealing)\n",
        "  \n",
        "  return tape.gradient(loss, model.trainable_variables)\n",
        "\n",
        "\n",
        "def apply_gradients(optimizer, gradients, variables):\n",
        "  \n",
        "  optimizer.apply_gradients(zip(gradients, variables))\n",
        "  \n",
        "  "
      ],
      "execution_count": 0,
      "outputs": []
    },
    {
      "cell_type": "code",
      "metadata": {
        "id": "Wz6NRwlS_Vxv",
        "colab_type": "code",
        "outputId": "3c4dffb0-c858-46fe-a9ac-62e3c41d7cc4",
        "colab": {
          "base_uri": "https://localhost:8080/",
          "height": 554
        }
      },
      "source": [
        "\n",
        "optimizer = tf.keras.optimizers.Adadelta(lr=1)\n",
        "\n",
        "epochs = 40\n",
        "\n",
        "latent_dim = 16 # NOTE: dimension of latent space (bad quality if too small)\n",
        "\n",
        "\n",
        "# instantiate model\n",
        "model = VAE(latent_dim) \n",
        "\n",
        "\n",
        "def compute_annealing(epoch, epochs):\n",
        "  \n",
        "  frac = float(epoch) / float(epochs)\n",
        "  \n",
        "  c1 = 20.0\n",
        "  c2 = 0.5\n",
        "  \n",
        "  return 1.0 / (1.0 + tf.exp(-c1 * (frac - c2)))\n",
        "\n",
        "\n",
        "for epoch in range(1, epochs + 1):\n",
        "    \n",
        "  annealing = compute_annealing(epoch, epochs)\n",
        "  \n",
        "  for x in train_dataset:\n",
        "    \n",
        "    gradients = compute_gradients(model, x, annealing)\n",
        "    apply_gradients(optimizer, gradients, model.trainable_variables)    \n",
        "    \n",
        "  if epoch % 5 == 0:  \n",
        "    print(\"Done with epoch {}.\".format(epoch))\n",
        "  \n",
        "    template = 'KL divergence (train) {}, Reconstr. error (train): {}'\n",
        "    print (template.format(KL_div_mean.result(), logpx_z_mean.result()))\n",
        "\n",
        "  # reset metrics\n",
        "  KL_div_mean.reset_states()\n",
        "  logpx_z_mean.reset_states()\n",
        "  \n",
        "  for x in test_dataset:\n",
        "    \n",
        "    compute_loss(model, x, annealing)\n",
        "    \n",
        "  if epoch % 5 == 0:  \n",
        "    print(\"done with epoch {}\".format(epoch))\n",
        "  \n",
        "    template = 'KL divergence (test) {}, Reconstr. error (test): {}'\n",
        "    print (template.format(KL_div_mean.result(), logpx_z_mean.result()))\n",
        "\n",
        "  # reset metrics\n",
        "  KL_div_mean.reset_states()\n",
        "  logpx_z_mean.reset_states()  \n",
        "\n"
      ],
      "execution_count": 385,
      "outputs": [
        {
          "output_type": "stream",
          "text": [
            "Done with epoch 5.\n",
            "KL divergence (train) 79.28279876708984, Reconstr. error (train): -21.968503952026367\n",
            "done with epoch 5\n",
            "KL divergence (test) 69.49922943115234, Reconstr. error (test): -22.092529296875\n",
            "Done with epoch 10.\n",
            "KL divergence (train) 48.80472946166992, Reconstr. error (train): -21.460693359375\n",
            "done with epoch 10\n",
            "KL divergence (test) 40.15911865234375, Reconstr. error (test): -21.14863395690918\n",
            "Done with epoch 15.\n",
            "KL divergence (train) 12.092446327209473, Reconstr. error (train): -21.473337173461914\n",
            "done with epoch 15\n",
            "KL divergence (test) 10.516654968261719, Reconstr. error (test): -21.444307327270508\n",
            "Done with epoch 20.\n",
            "KL divergence (train) 2.5313892364501953, Reconstr. error (train): -21.961265563964844\n",
            "done with epoch 20\n",
            "KL divergence (test) 2.216724395751953, Reconstr. error (test): -21.691022872924805\n",
            "Done with epoch 25.\n",
            "KL divergence (train) 1.649268388748169, Reconstr. error (train): -22.183551788330078\n",
            "done with epoch 25\n",
            "KL divergence (test) 1.4655752182006836, Reconstr. error (test): -21.926931381225586\n",
            "Done with epoch 30.\n",
            "KL divergence (train) 1.5213068723678589, Reconstr. error (train): -22.137535095214844\n",
            "done with epoch 30\n",
            "KL divergence (test) 1.3913533687591553, Reconstr. error (test): -21.545930862426758\n",
            "Done with epoch 35.\n",
            "KL divergence (train) 1.4881983995437622, Reconstr. error (train): -22.150354385375977\n",
            "done with epoch 35\n",
            "KL divergence (test) 1.4751638174057007, Reconstr. error (test): -21.74692153930664\n",
            "Done with epoch 40.\n",
            "KL divergence (train) 1.4662988185882568, Reconstr. error (train): -22.099964141845703\n",
            "done with epoch 40\n",
            "KL divergence (test) 1.4301304817199707, Reconstr. error (test): -21.346466064453125\n"
          ],
          "name": "stdout"
        }
      ]
    },
    {
      "cell_type": "code",
      "metadata": {
        "id": "LyaPQ3LhDswd",
        "colab_type": "code",
        "outputId": "66466826-72a6-46c1-9249-3b156510cf82",
        "colab": {
          "base_uri": "https://localhost:8080/",
          "height": 221
        }
      },
      "source": [
        "\n",
        "x = all_images[537, :, :, :].reshape((28, 28))\n",
        "\n",
        "x_img = Image.fromarray((x * 255).astype(np.uint8), mode='L')\n",
        "\n",
        "\n",
        "mean, logvar = model.encode(x.reshape(1, 28, 28, 1)) \n",
        "  \n",
        "z = model.reparameterize(mean, logvar)\n",
        "  \n",
        "x_logit = model.decode(z)\n",
        "\n",
        "x_logit_img = Image.fromarray((np.array(tf.sigmoid(x_logit)).reshape(28, 28) * 255).astype(np.uint8), mode='L')\n",
        "\n",
        "\n",
        "_, axarr = plt.subplots(1, 2)\n",
        "axarr[0].imshow(x_img, cmap='gray', vmin=0, vmax=255)\n",
        "axarr[1].imshow(x_logit_img, cmap='gray', vmin=0, vmax=255)\n"
      ],
      "execution_count": 426,
      "outputs": [
        {
          "output_type": "execute_result",
          "data": {
            "text/plain": [
              "<matplotlib.image.AxesImage at 0x7f1262f36588>"
            ]
          },
          "metadata": {
            "tags": []
          },
          "execution_count": 426
        },
        {
          "output_type": "display_data",
          "data": {
            "image/png": "[encoded data removed]",
            "text/plain": [
              "<Figure size 432x288 with 2 Axes>"
            ]
          },
          "metadata": {
            "tags": []
          }
        }
      ]
    },
    {
      "cell_type": "code",
      "metadata": {
        "id": "kTAYBorFEhhz",
        "colab_type": "code",
        "outputId": "0631ab64-13cf-45fd-b64c-fe7c2a2ed510",
        "colab": {
          "base_uri": "https://localhost:8080/",
          "height": 286
        }
      },
      "source": [
        "\n",
        "samples_logits = model.sample()\n",
        "\n",
        "sample = Image.fromarray((np.array(tf.sigmoid(samples_logits[30, :, :, :])).reshape(28, 28) * 255).astype(np.uint8), \n",
        "                         mode='L')\n",
        "\n",
        "plt.imshow(sample, cmap='gray', vmin=0, vmax=255)\n"
      ],
      "execution_count": 425,
      "outputs": [
        {
          "output_type": "execute_result",
          "data": {
            "text/plain": [
              "<matplotlib.image.AxesImage at 0x7f1262fb20f0>"
            ]
          },
          "metadata": {
            "tags": []
          },
          "execution_count": 425
        },
        {
          "output_type": "display_data",
          "data": {
            "image/png": "[encoded data removed]",
            "text/plain": [
              "<Figure size 432x288 with 1 Axes>"
            ]
          },
          "metadata": {
            "tags": []
          }
        }
      ]
    },
    {
      "cell_type": "code",
      "metadata": {
        "id": "2e6ebJY_YEzi",
        "colab_type": "code",
        "colab": {}
      },
      "source": [
        "\n",
        "from random import randint\n",
        "\n",
        "dir_gen_images = \"/content/drive/My Drive/generated/\"\n",
        "\n",
        "\n",
        "def save_gen_images(dir_gen_images, n):\n",
        "  \n",
        "  for i in range(n):\n",
        "    \n",
        "    samples_logits = model.sample()\n",
        "    \n",
        "    j = randint(0, 99)\n",
        "\n",
        "    sample = Image.fromarray(\n",
        "        (np.array(tf.sigmoid(samples_logits[j, :, :, :])).reshape(28, 28) * 255).astype(np.uint8), mode='L')\n",
        "            \n",
        "    sample.save(dir_gen_images + \"image\" + str(i) + \".png\", \"png\")\n",
        "  \n",
        "  \n",
        "save_gen_images(dir_gen_images, 100)\n"
      ],
      "execution_count": 0,
      "outputs": []
    }
  ]
}