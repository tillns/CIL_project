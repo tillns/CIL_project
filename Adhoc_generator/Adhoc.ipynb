{
 "cells": [
  {
   "cell_type": "code",
   "execution_count": 47,
   "metadata": {},
   "outputs": [],
   "source": [
    "\"\"\"Adhoc Generator\n",
    "\n",
    "This file generates cosmology images based on the labelled set given in the kaggle competition.\n",
    "The adhoc method here randomly places stars that it has detected from the labelled images \n",
    "and places them randomly onto a black image.\n",
    "\n",
    "\"\"\"\n",
    "import numpy as np\n",
    "import csv\n",
    "import sys\n",
    "from PIL import Image\n",
    "import random\n",
    "import cv2\n",
    "import matplotlib.pyplot as plt\n",
    "import os"
   ]
  },
  {
   "cell_type": "code",
   "execution_count": 49,
   "metadata": {},
   "outputs": [],
   "source": [
    "# Parameters\n",
    "THRESHOLD = 4\n",
    "# change data_path if you don't want to relocate the files\n",
    "data_path = '../../cosmology_aux_data_170429/labeled'\n",
    "\n",
    "# fix the seed for the random number generator\n",
    "random.seed(9999)"
   ]
  },
  {
   "cell_type": "code",
   "execution_count": 50,
   "metadata": {},
   "outputs": [],
   "source": [
    "# chooses a random image to use as source for stars to add\n",
    "def choose_img(data):\n",
    "    \"\"\"Chooses a random image to use as source for a star\n",
    "\n",
    "    Parameters\n",
    "    ----------\n",
    "    data : list\n",
    "        a list containing the id and label of each image\n",
    "\n",
    "    Returns\n",
    "    -------\n",
    "    src : numpy.ndarray\n",
    "        A randomly chosen image\n",
    "    \"\"\"\n",
    "    num_images = len(data)\n",
    "    random_img_idx = random.randint(0, num_images-1)\n",
    "    src = cv2.imread(data_path + '/' + data[random_img_idx] + '.png')\n",
    "    return src"
   ]
  },
  {
   "cell_type": "code",
   "execution_count": 51,
   "metadata": {},
   "outputs": [],
   "source": [
    "def detect_stars(src):\n",
    "    \"\"\"Detects how many stars are in an image\n",
    "\n",
    "    Parameters\n",
    "    ----------\n",
    "    src : numpy.ndarray\n",
    "        Image to check the number of stars\n",
    "\n",
    "    Returns\n",
    "    -------\n",
    "    len(filtered_contours) : int\n",
    "        Number of stars in the given image\n",
    "    filtered_contours : list of arrays\n",
    "        List of contours of the stars in the image\n",
    "    \"\"\"\n",
    "    img = np.copy(src) \n",
    "    imgray = cv2.cvtColor(img, cv2.COLOR_BGR2GRAY)\n",
    "\n",
    "    # threshold and detect contours\n",
    "    thresh = cv2.threshold(imgray, THRESHOLD, 255, cv2.THRESH_BINARY)[1]\n",
    "    contours = cv2.findContours(thresh,\n",
    "                                    cv2.RETR_TREE, cv2.CHAIN_APPROX_SIMPLE)[1]\n",
    "\n",
    "    # filter contours by area\n",
    "    min_area = 2\n",
    "    filtered_contours = [c for c in contours\n",
    "                             if cv2.contourArea(c) >= min_area]\n",
    "    \n",
    "    return len(filtered_contours), filtered_contours"
   ]
  },
  {
   "cell_type": "code",
   "execution_count": 52,
   "metadata": {},
   "outputs": [],
   "source": [
    "def add_random_star(dst, src):\n",
    "    \"\"\"Adds a random star from src to dst\n",
    "\n",
    "    Parameters\n",
    "    ----------\n",
    "    src : numpy.ndarray\n",
    "        Image to take a sample star from\n",
    "    dst : numpy.ndarray\n",
    "        Image to add a star to\n",
    "\n",
    "    Returns\n",
    "    -------\n",
    "    dst : numpy.ndarray\n",
    "        Image with the added star\n",
    "    \"\"\"\n",
    "    # filter contours by area\n",
    "    _, filtered_contours = detect_stars(src)\n",
    "    area_contours = [cv2.contourArea(c) for c in filtered_contours]\n",
    "    # get bounding rectangles\n",
    "    boundings = [cv2.boundingRect(c) for c in filtered_contours] # (x,y,w,h)\n",
    "\n",
    "    # add a star from the src image\n",
    "    random_star = random.randint(0,len(boundings)-1)\n",
    "    rx = random.randint(0,src.shape[0]-1)\n",
    "    ry = random.randint(0,src.shape[1]-1)\n",
    "    xlength = min([rx+boundings[random_star][2], dst.shape[0]])\n",
    "    ylength = min([ry+boundings[random_star][3], dst.shape[1]])\n",
    "    dst[ry:ylength, rx:xlength] += \\\n",
    "        src[boundings[random_star][1]:boundings[random_star][1]+ylength-ry, \n",
    "            boundings[random_star][0]:boundings[random_star][0]+xlength-rx]\n",
    "    \n",
    "    return dst"
   ]
  },
  {
   "cell_type": "code",
   "execution_count": 53,
   "metadata": {},
   "outputs": [],
   "source": [
    "def find_num_stars(data):\n",
    "    \"\"\"Finds the least and highest amount of stars in a cosmology image from the dataset\n",
    "\n",
    "    Parameters\n",
    "    ----------\n",
    "    data : list\n",
    "        a list containing the id and label of each image\n",
    "\n",
    "    Returns\n",
    "    -------\n",
    "    min_stars : int\n",
    "        The least amount of stars found in an image in the dataset\n",
    "    max_stars : int\n",
    "        The highest amount of stars found in an image in the dataset\n",
    "    \"\"\"\n",
    "    min_stars = sys.maxsize\n",
    "    max_stars = 0\n",
    "    \n",
    "    for d in data:\n",
    "        src = cv2.imread(data_path + '/'  + d + '.png')\n",
    "        num_stars, _ = detect_stars(src)\n",
    "        if (num_stars > max_stars):\n",
    "            max_stars = num_stars\n",
    "        if (num_stars < min_stars):\n",
    "            min_stars = num_stars\n",
    "    \n",
    "    return min_stars, max_stars"
   ]
  },
  {
   "cell_type": "code",
   "execution_count": 54,
   "metadata": {},
   "outputs": [],
   "source": [
    "def generate_image(data, min_stars, max_stars):\n",
    "    \"\"\"Generates a cosmology image using the adhoc method\n",
    "\n",
    "    Parameters\n",
    "    ----------\n",
    "    data : list\n",
    "        a list containing the id and label of each image\n",
    "    min_stars : int\n",
    "        The least amount of stars found in an image in the dataset\n",
    "    max_stars : int\n",
    "        The highest amount of stars found in an image in the dataset\n",
    "\n",
    "    Returns\n",
    "    -------\n",
    "    dst : numpy.ndarray\n",
    "        Adhoc generated cosmology image\n",
    "    \"\"\"\n",
    "    # initialize src and dst image\n",
    "    src = choose_img(data)\n",
    "    dst = np.zeros((src.shape[0], src.shape[1], src.shape[2]), np.uint8)\n",
    "    \n",
    "    # choose number of stars to add\n",
    "    num_stars = random.randint(min_stars, max_stars)\n",
    "    \n",
    "    # add stars\n",
    "    for i in range(num_stars):\n",
    "        dst = add_random_star(dst, src)\n",
    "        # get next random source image to take stars from\n",
    "        src = choose_img(data) \n",
    "    \n",
    "    # make sure the highest value doesn't go over 254\n",
    "    dst = np.clip(dst, 0, 254)\n",
    "    \n",
    "    return dst"
   ]
  },
  {
   "cell_type": "code",
   "execution_count": 55,
   "metadata": {},
   "outputs": [],
   "source": [
    "# load in data\n",
    "with open(data_path + '.csv') as csv_file:\n",
    "    # 1201 lines, 1 header, 1000 cosmology images, 200 others\n",
    "    csv_reader = csv.reader(csv_file, delimiter=',')\n",
    "    header = next(csv_reader)\n",
    "    data = list(csv_reader)\n",
    "    # filter the data, such that we only have cosmology images\n",
    "    data = [x[0] for x in data if x[1] != '0.0']"
   ]
  },
  {
   "cell_type": "code",
   "execution_count": 45,
   "metadata": {},
   "outputs": [
    {
     "name": "stdout",
     "output_type": "stream",
     "text": [
      "5\n",
      "55\n"
     ]
    }
   ],
   "source": [
    "# initizalize number of stars\n",
    "min_stars, max_stars = find_num_stars(data)\n",
    "print(min_stars)\n",
    "print(max_stars)"
   ]
  },
  {
   "cell_type": "code",
   "execution_count": 56,
   "metadata": {},
   "outputs": [],
   "source": [
    "# generate images\n",
    "for i in range(100):\n",
    "    new_img = generate_image(data, min_stars, max_stars)\n",
    "    cv2.imwrite( \"./Images/\" + repr(i) + \".jpg\", new_img );"
   ]
  },
  {
   "cell_type": "code",
   "execution_count": null,
   "metadata": {},
   "outputs": [],
   "source": []
  }
 ],
 "metadata": {
  "kernelspec": {
   "display_name": "Python 3",
   "language": "python",
   "name": "python3"
  },
  "language_info": {
   "codemirror_mode": {
    "name": "ipython",
    "version": 3
   },
   "file_extension": ".py",
   "mimetype": "text/x-python",
   "name": "python",
   "nbconvert_exporter": "python",
   "pygments_lexer": "ipython3",
   "version": "3.6.1"
  }
 },
 "nbformat": 4,
 "nbformat_minor": 2
}
