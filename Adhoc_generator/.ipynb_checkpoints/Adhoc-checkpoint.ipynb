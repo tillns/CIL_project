{
 "cells": [
  {
   "cell_type": "code",
   "execution_count": 1,
   "metadata": {},
   "outputs": [],
   "source": [
    "import numpy as np"
   ]
  },
  {
   "cell_type": "code",
   "execution_count": 2,
   "metadata": {},
   "outputs": [],
   "source": [
    "import csv\n",
    "import sys"
   ]
  },
  {
   "cell_type": "code",
   "execution_count": 3,
   "metadata": {},
   "outputs": [],
   "source": [
    "from PIL import Image\n",
    "import random"
   ]
  },
  {
   "cell_type": "code",
   "execution_count": 4,
   "metadata": {},
   "outputs": [],
   "source": [
    "import numpy as np\n",
    "import cv2\n",
    "import matplotlib.pyplot as plt\n",
    "import os\n",
    "\n",
    "data_path = '../../cosmology_aux_data_170429/labeled'"
   ]
  },
  {
   "cell_type": "code",
   "execution_count": 5,
   "metadata": {},
   "outputs": [],
   "source": [
    "# chooses a random image to use as source for stars to add\n",
    "def choose_img(num_images):\n",
    "    random_img_idx = random.randint(0, num_images-1)\n",
    "    src = cv2.imread(data_path + '/' + data[random_img_idx] + '.png')\n",
    "    return src"
   ]
  },
  {
   "cell_type": "code",
   "execution_count": 6,
   "metadata": {},
   "outputs": [],
   "source": [
    "def detect_stars(src):\n",
    "    img = np.copy(src) #cv2.imread(img_path)\n",
    "    imgray = cv2.cvtColor(img, cv2.COLOR_BGR2GRAY)\n",
    "\n",
    "    # threshold and detect contours\n",
    "    thresh = cv2.threshold(imgray, 20, 255, cv2.THRESH_BINARY)[1]\n",
    "    contours = cv2.findContours(thresh,\n",
    "                                    cv2.RETR_TREE, cv2.CHAIN_APPROX_SIMPLE)[1]\n",
    "    # print(len(contours))\n",
    "\n",
    "    # filter contours by area\n",
    "    min_area = 2\n",
    "    filtered_contours = [c for c in contours\n",
    "                             if cv2.contourArea(c) >= min_area]\n",
    "    area_contours = [cv2.contourArea(c) for c in filtered_contours]\n",
    "    # get bounding rectangles\n",
    "    boundings = [cv2.boundingRect(c) for c in filtered_contours] # x,y,w,h\n",
    "    #if (len(boundings) > 0):\n",
    "        # print(boundings[0])\n",
    "\n",
    "    # draw center location of blobs\n",
    "    line_length = 8\n",
    "    cross_color = (255, 0, 0)\n",
    "    for i, c in enumerate(filtered_contours):\n",
    "        line_length = max([boundings[i][2], boundings[i][3]])\n",
    "        M = cv2.moments(c)\n",
    "        x = int(M['m10']/M['m00'])\n",
    "        y = int(M['m01']/M['m00'])\n",
    "        cv2.line(img, (x-boundings[i][2], y), (x+boundings[i][2], y), cross_color, 2)\n",
    "        cv2.line(img, (x, y-boundings[i][3]), (x, y+boundings[i][3]), cross_color, 2)\n",
    "    \n",
    "    # for checking, show image\n",
    "    #plt.figure(figsize=(16, 16))\n",
    "    #plt.title('ORB Interest Points')\n",
    "    #plt.imshow(img); plt.show()\n",
    "    \n",
    "    return len(filtered_contours)"
   ]
  },
  {
   "cell_type": "code",
   "execution_count": 7,
   "metadata": {},
   "outputs": [],
   "source": [
    "def add_random_star(dst, src):\n",
    "    img = src\n",
    "    imgray = cv2.cvtColor(img, cv2.COLOR_BGR2GRAY)\n",
    "\n",
    "    # threshold and detect contours\n",
    "    thresh = cv2.threshold(imgray, 20, 255, cv2.THRESH_BINARY)[1]\n",
    "    contours = cv2.findContours(thresh,\n",
    "                                    cv2.RETR_TREE, cv2.CHAIN_APPROX_SIMPLE)[1]\n",
    "    # print(len(contours))\n",
    "\n",
    "    # filter contours by area\n",
    "    min_area = 2\n",
    "    filtered_contours = [c for c in contours\n",
    "                             if cv2.contourArea(c) >= min_area]\n",
    "    area_contours = [cv2.contourArea(c) for c in filtered_contours]\n",
    "    # get bounding rectangles\n",
    "    boundings = [cv2.boundingRect(c) for c in filtered_contours] # (x,y,w,h)\n",
    "\n",
    "    # add a star from the src image\n",
    "    random_star = random.randint(0,len(boundings)-1)\n",
    "    #print('src star # ' + repr(random_star))\n",
    "    #print('src total stars: ' + repr(len(boundings)))\n",
    "    rx = random.randint(0,src.shape[0]-1)\n",
    "    ry = random.randint(0,src.shape[1]-1)\n",
    "    xlength = min([rx+boundings[random_star][2], dst.shape[0]])\n",
    "    ylength = min([ry+boundings[random_star][3], dst.shape[1]])\n",
    "    dst[ry:ylength, rx:xlength] += \\\n",
    "        img[boundings[random_star][1]:boundings[random_star][1]+ylength-ry, \n",
    "            boundings[random_star][0]:boundings[random_star][0]+xlength-rx]\n",
    "    \n",
    "    #plt.figure(figsize=(16, 16))\n",
    "    #plt.title('With new star')\n",
    "    #plt.imshow(dst); plt.show()\n",
    "    return dst"
   ]
  },
  {
   "cell_type": "code",
   "execution_count": 8,
   "metadata": {},
   "outputs": [],
   "source": [
    "def find_num_stars(data):\n",
    "    min_stars = sys.maxsize\n",
    "    max_stars = 0\n",
    "    \n",
    "    for d in data:\n",
    "        src = cv2.imread(data_path + '/'  + d + '.png')\n",
    "        num_stars = detect_stars(src)\n",
    "        if (num_stars > max_stars):\n",
    "            max_stars = num_stars\n",
    "        if (num_stars < min_stars):\n",
    "            min_stars = num_stars\n",
    "    \n",
    "    return min_stars, max_stars"
   ]
  },
  {
   "cell_type": "code",
   "execution_count": 9,
   "metadata": {},
   "outputs": [],
   "source": [
    "def generate_image(data, min_stars, max_stars):\n",
    "    # initialize src and dst image\n",
    "    src = choose_img(len(data))\n",
    "    dst = np.zeros((src.shape[0], src.shape[1], src.shape[2]), np.uint8)\n",
    "    \n",
    "    # add noise\n",
    "    #cv2.randn(dst,10,5)\n",
    "    #dst = cv2.cvtColor(dst, cv2.COLOR_BGR2GRAY)\n",
    "    #dst = cv2.cvtColor(dst,cv2.COLOR_GRAY2RGB)\n",
    "    \n",
    "    # choose number of stars to add\n",
    "    num_stars = random.randint(min_stars, max_stars)\n",
    "    #print(repr(num_stars) + ' star(s) to add.')\n",
    "    \n",
    "    # add stars\n",
    "    for i in range(num_stars):\n",
    "        dst = add_random_star(dst, src)\n",
    "        # get next random source image to take stars from\n",
    "        src = choose_img(len(data)) \n",
    "    \n",
    "    # make sure the highest value doesn't go over 254\n",
    "    dst = np.clip(dst, 0, 254)\n",
    "    \n",
    "    # check image\n",
    "    current_num_stars = detect_stars(dst) \n",
    "    #print('The generated image has ' + repr(current_num_stars)  + ' star(s).')\n",
    "    \n",
    "    # show image\n",
    "    #plt.figure(figsize=(16, 16))\n",
    "    #plt.title('With new star')\n",
    "    #plt.imshow(dst); plt.show()\n",
    "    return dst"
   ]
  },
  {
   "cell_type": "code",
   "execution_count": 10,
   "metadata": {},
   "outputs": [],
   "source": [
    "# load in data\n",
    "with open(data_path + '.csv') as csv_file:\n",
    "    # 1201 lines, 1 header, 1000 cosmology images, 200 others\n",
    "    csv_reader = csv.reader(csv_file, delimiter=',')\n",
    "    header = next(csv_reader)\n",
    "    data = list(csv_reader)\n",
    "    \n",
    "    data = [x[0] for x in data if x[1] != '0.0']\n",
    "    # print(data)\n",
    "    # print(len(data))"
   ]
  },
  {
   "cell_type": "code",
   "execution_count": 11,
   "metadata": {},
   "outputs": [
    {
     "name": "stdout",
     "output_type": "stream",
     "text": [
      "1\n",
      "18\n"
     ]
    }
   ],
   "source": [
    "# initizalize number of stars\n",
    "min_stars, max_stars = find_num_stars(data)\n",
    "print(min_stars)\n",
    "print(max_stars)"
   ]
  },
  {
   "cell_type": "code",
   "execution_count": 12,
   "metadata": {},
   "outputs": [],
   "source": [
    "# generate images\n",
    "for i in range(100):\n",
    "    new_img = generate_image(data, min_stars, max_stars)\n",
    "    cv2.imwrite( \"./Images/\" + repr(i) + \".jpg\", new_img );"
   ]
  },
  {
   "cell_type": "code",
   "execution_count": null,
   "metadata": {},
   "outputs": [],
   "source": []
  }
 ],
 "metadata": {
  "kernelspec": {
   "display_name": "Python 3",
   "language": "python",
   "name": "python3"
  },
  "language_info": {
   "codemirror_mode": {
    "name": "ipython",
    "version": 3
   },
   "file_extension": ".py",
   "mimetype": "text/x-python",
   "name": "python",
   "nbconvert_exporter": "python",
   "pygments_lexer": "ipython3",
   "version": "3.6.1"
  }
 },
 "nbformat": 4,
 "nbformat_minor": 2
}
